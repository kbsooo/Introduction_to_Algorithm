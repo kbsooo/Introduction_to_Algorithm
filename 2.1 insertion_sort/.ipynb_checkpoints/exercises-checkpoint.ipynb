{
 "cells": [
  {
   "cell_type": "markdown",
   "id": "6485f155-93c9-4b6f-98f7-c41aa2a4d309",
   "metadata": {},
   "source": [
    "### 2.1-1\n",
    "Using Figure 2.2 as a model, illustrate the operation of INSERTION-SORT on an array initially containing the sequence <31,,41,59,26,41,58>"
   ]
  },
  {
   "cell_type": "code",
   "execution_count": 2,
   "id": "02dfb006-5435-4b9a-82f3-2be2e9ab717a",
   "metadata": {},
   "outputs": [
    {
     "name": "stdout",
     "output_type": "stream",
     "text": [
      "initial arr:  [31, 41, 59, 26, 41, 58]\n",
      "step 1: [31, 41, 59, 26, 41, 58]\n",
      "step 2: [31, 41, 59, 26, 41, 58]\n",
      "step 3: [26, 31, 41, 59, 41, 58]\n",
      "step 4: [26, 31, 41, 41, 59, 58]\n",
      "step 5: [26, 31, 41, 41, 58, 59]\n",
      "sorted arr:  [26, 31, 41, 41, 58, 59]\n"
     ]
    }
   ],
   "source": [
    "arr = [31, 41, 59, 26, 41, 58]\n",
    "\n",
    "def insertion_sort(arr):\n",
    "    for i in range(1, len(arr)): # i는 1부터 시\n",
    "        key = arr[i]\n",
    "        j = i - 1 # 정렬된 부분의 마지막 index\n",
    "        while j >= 0 and arr[j] > key:\n",
    "            arr[j + 1]  = arr[j] # 값을 오른쪽으로 이동\n",
    "            j -= 1\n",
    "        arr[j + 1] = key\n",
    "\n",
    "        print(f\"step {i}: {arr}\")\n",
    "\n",
    "print(\"initial arr: \", arr)\n",
    "insertion_sort(arr)\n",
    "print(\"sorted arr: \", arr)"
   ]
  },
  {
   "cell_type": "markdown",
   "id": "62a322de-38d6-4391-9222-098dbe44e15f",
   "metadata": {},
   "source": [
    "### 2.1-2\n",
    "Consider the procedure SUM-ARRAY on the facing page. It computes the sum of the n numbers in array A[1:n]. State a loop invariant for this procedure, and use its initialization, maintenance, and termination properties to show that the SUM-ARRAY procedure returns the sum of the numbers in A[1:n].\n",
    "```\n",
    "SUM-ARRAY(A,n)\n",
    "sum = 0\n",
    "for i = 1 to n\n",
    "    sum = sum + A[i]\n",
    "return sum\n",
    "```"
   ]
  },
  {
   "cell_type": "markdown",
   "id": "fa99a68f-fbc9-4949-90d7-b7b550b3aef6",
   "metadata": {},
   "source": [
    "- **Initialization:**\n",
    "반복문이 시작되기 전에 sum = 0, </br>\n",
    "또한 i = 1이므로 아무것도 더하지 않은 상태 </br>\n",
    "-> loop invarient 성립\n",
    "  \n",
    "- **Maintenance:**\n",
    "반복문의 한 루프가 실행될 때마다 sum += A[i]가 수행됨 </br>\n",
    "-> loop invarient 성립\n",
    "- **Termination:**\n",
    "반복문이 종료될 때, i  = n + 1이므로 마지막 반복에서 sum에는 A[1] + A[2] + ... + A[n]이 저장되어있음 </br>\n",
    "sum을 반환하면 A[1:n] 값이 나옴\n",
    "\n",
    "-> loop invarient 성립"
   ]
  },
  {
   "cell_type": "markdown",
   "id": "1c4c50ae-3407-4f8c-8de7-8257d1a720cd",
   "metadata": {},
   "source": [
    "### 2.1-3\n",
    "Rewrite the INSERTION-SORT procedure to sort into monotonically decreasing instead of monotonically increasing order."
   ]
  },
  {
   "cell_type": "code",
   "execution_count": 5,
   "id": "5f850f8c-6565-4f06-a8f4-c04709e00680",
   "metadata": {},
   "outputs": [
    {
     "name": "stdout",
     "output_type": "stream",
     "text": [
      "initial arr:  [31, 41, 59, 26, 41, 58]\n",
      "step 1: [41, 31, 59, 26, 41, 58]\n",
      "step 2: [59, 41, 31, 26, 41, 58]\n",
      "step 3: [59, 41, 31, 26, 41, 58]\n",
      "step 4: [59, 41, 41, 31, 26, 58]\n",
      "step 5: [59, 58, 41, 41, 31, 26]\n",
      "sorted arr:  [59, 58, 41, 41, 31, 26]\n"
     ]
    }
   ],
   "source": [
    "arr = [31, 41, 59, 26, 41, 58]\n",
    "\n",
    "def insertion_sort(arr):\n",
    "    for i in range(1, len(arr)): # i는 1부터 시\n",
    "        key = arr[i]\n",
    "        j = i - 1 # 정렬된 부분의 마지막 index\n",
    "        while j >= 0 and arr[j] < key:\n",
    "            arr[j + 1]  = arr[j] # 값을 오른쪽으로 이동\n",
    "            j -= 1\n",
    "        arr[j + 1] = key\n",
    "\n",
    "        print(f\"step {i}: {arr}\")\n",
    "\n",
    "print(\"initial arr: \", arr)\n",
    "insertion_sort(arr)\n",
    "print(\"sorted arr: \", arr)"
   ]
  },
  {
   "cell_type": "markdown",
   "id": "f546772b-c691-43f5-968d-ade893815993",
   "metadata": {},
   "source": [
    "### 2.1-4\n",
    "Consider the searching problem:\n",
    "**Input:** A sequence of n numbers $<a_1, a_2, ... a_n>$ stored in array A[1:n] and a value x.\n",
    "**Output:** An index i such that x equals A[i] or the special value NIL if x does not appear in A.\n",
    "\n",
    "Write pseudocode for **linear search**, which scans through the array from beginning to end, looking for x. Using a loop invariant, prove that your algorithm is correct. Make sure that your lool invariant fulfills the three necessary properties."
   ]
  },
  {
   "cell_type": "markdown",
   "id": "288b40e8-6660-41c3-bc9f-50172b6e1273",
   "metadata": {},
   "source": [
    "```\n",
    "LINEAR-SEARCH(A, n, x)\n",
    "    // 배열 A[1:n]과 검색 값 x를 입력으로 받음\n",
    "    for i = 1 to n\n",
    "        if A[i] == x\n",
    "            return i  // x가 발견되면 해당 인덱스 반환\n",
    "    return NIL  // x가 배열에 없으면 NIL 반환\n",
    "```"
   ]
  },
  {
   "cell_type": "markdown",
   "id": "f7eba4ef-453c-4ec4-9558-7958ff4e7994",
   "metadata": {},
   "source": [
    "#### 2.1-5\n",
    "Consider the problem of adding two n-bit binary integers $a$ and $b$, stored in two n-element arrays $A[0 : n-1]$ and $B[0 : n-1]$, where each element is either 0 or 1, $a = \\sum_{i=0}^{n-1} A[i] \\cdot 2^i$, and $b = \\sum_{i=0}^{n-1} B[i] \\cdot 2^i$. The sum $c = a + b$ of the two integers should be stored in binary form in an $(n+1)$-element array $C[0 : n]$, where $c = \\sum_{i=0}^{n} C[i] \\cdot 2^i$. Write a procedure **ADD-BINARY-INTEGERS** that takes as input arrays $A$ and $B$, along with the length $n$, and returns array $C$ holding the sum."
   ]
  },
  {
   "cell_type": "markdown",
   "id": "98bae116-0639-4f0a-ac96-b9460e34c01a",
   "metadata": {},
   "source": [
    "```\n",
    "ADD-BINARY-INTEGERS(A, B, n):\n",
    "    C = 새로운 배열, 크기는 (n+1)\n",
    "    carry = 0\n",
    "\n",
    "    for i = 0 to n-1:\n",
    "        sum = A[i] + B[i] + carry\n",
    "        C[i] = sum % 2\n",
    "        carry = sum // 2\n",
    "\n",
    "    C[n] = carry\n",
    "    return C\n",
    "```"
   ]
  },
  {
   "cell_type": "code",
   "execution_count": null,
   "id": "4beec7c5-6269-4d6a-8afd-733030328a9f",
   "metadata": {},
   "outputs": [],
   "source": []
  }
 ],
 "metadata": {
  "kernelspec": {
   "display_name": "Python 3 (ipykernel)",
   "language": "python",
   "name": "python3"
  },
  "language_info": {
   "codemirror_mode": {
    "name": "ipython",
    "version": 3
   },
   "file_extension": ".py",
   "mimetype": "text/x-python",
   "name": "python",
   "nbconvert_exporter": "python",
   "pygments_lexer": "ipython3",
   "version": "3.12.9"
  }
 },
 "nbformat": 4,
 "nbformat_minor": 5
}
