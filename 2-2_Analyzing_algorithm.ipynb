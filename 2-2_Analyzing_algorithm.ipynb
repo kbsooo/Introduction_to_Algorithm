{
 "cells": [
  {
   "cell_type": "markdown",
   "id": "c31e4443-81ef-4ee9-a3da-7674b6953ce5",
   "metadata": {},
   "source": [
    "### 2.2-1\n",
    "Express the function $n^3/1000 + 100n^2 - 100n + 3$ in terms of $\\theta$-notation."
   ]
  },
  {
   "cell_type": "markdown",
   "id": "9d0b7e51-fcf6-49da-aefa-58c9c4d72f14",
   "metadata": {},
   "source": [
    "### Answer:\n",
    "가장 높은 차수만 생각하고 계수는 생략하므로 $\\theta(n^3)$"
   ]
  },
  {
   "cell_type": "markdown",
   "id": "3a5364a0-be68-4c26-bfb7-f436938bfc81",
   "metadata": {},
   "source": [
    "### 2.2-2\n",
    "Consider sorting $n$ numbers stored in array $A[1 : n]$by first finding the smallest element of $A[1 : n]$and exchanging it with the element in $A[1]$. Then find the smallest element of $A[2 : n]$, and exchange it with $A[2]$. Then find the smallest element of $A[3 : n]$, and exchange it with $A[3]$. Continue in this manner for the first $n - 1$ elements of $A$. Write pseudocode for this algorithm, which is known as **selection sort**. What loop invariant does this algorithm maintain? Why does it need to run for only the first $n - 1$ elements, rather than for all $n$ elements? Give the worst-case running time of selection sort in $\\theta$-notation. Is the best-case running time any better?"
   ]
  },
  {
   "cell_type": "markdown",
   "id": "33b5be93-4c15-43b8-81a5-2b7a695e97a4",
   "metadata": {},
   "source": [
    "### Answer:\n",
    "1. **pseudocode of selection sort**\n",
    "```\n",
    "SELECTION-SORT(A, n)\n",
    "    for i = 2 to n\n",
    "        key = A[i]\n",
    "        // Insert A[i] into the sorted subarray A[1:i-1]\n",
    "        j = i -1\n",
    "        while j > 0 and A[j] > key\n",
    "            A[j + 1] = A[j]\n",
    "            j = j - 1\n",
    "        A[j + 1] = key\n",
    "```\n",
    "2. **What loop invariant does this alogrithm maintain?**\n",
    "- 루프 불변식: 알고리즘이 올바르게 동작함을 보장하는 조건\n",
    "- **Insertion sort에서는 각 반복 $i$가 시작될 때, 배열 $A[1:i - 1]$은 이미 정렬되어 있으며, 이 부분의 원소들은 $A[i:n]$의 모든 원소보다 작거나 같다**\n",
    "  \n",
    "3. **Why does it need to run for only the first $n - 1$ elements, rather than for all $n$ elements?**\n",
    "- $i = 1$부터 $i = n - 1$까지 반복하면서 각 위치에 최소값을 채우면 $A[n]$은 자동으로 올바른 위치에 있게 됨\n",
    "  \n",
    "4. **Give the worst-case running time of selection sort in $\\theta$-notation**\n",
    "```\n",
    "for i = 2 to n\n",
    "```\n",
    "-> $n - 1$번 반복\n",
    "\n",
    "```\n",
    "while j > 0 and A[j] > key\n",
    "```\n",
    "-> $j = i + 1$부터 $n$까지, $i = 1$일 때 $n - 1$번, $i = 2$일 때 $n - 2$번, ... $i = n - 1$일 때 1번\n",
    "\n",
    "-> $\\frac{(n-1)n}{2}$\n",
    "-> $\\theta(n^2)$\n",
    "\n",
    "5. **Is the best-case running time any better?**\n",
    "최선의 경우는 정렬이 이미 정렬되어 있는 경우인데 insertion sort는 정렬되어 있어도 항상 최소값을 찾기 위해 내부 루프를 모두 실행함\n",
    "\n",
    "그래서 최선, 최악의 경우 모두 $\\frac{(n-1)n}{2}$ 번 비교하므로 $\\theta(n^2)$"
   ]
  },
  {
   "cell_type": "markdown",
   "id": "2fdc6542-b25a-440c-9dc1-a1625f410111",
   "metadata": {},
   "source": [
    "### 2.2-3\n",
    "Consider linear search again (see Exercise 2.1-4). How many elements of the input array need to be checked on the average, assuming that the element being searched for is equally likely to be any element in the array? How about in the worst case? Using $\\theta$-notation, give the average-case and worst-case running times of linear search. Justify your answers."
   ]
  },
  {
   "cell_type": "markdown",
   "id": "b74d49e3-2150-40a8-83b8-eb5b6c946cca",
   "metadata": {},
   "source": [
    "### Answer:\n",
    "1. **How many elements of the input array need to be checked on the average, assuming that the element being searched for is equally likely to be any element in the array?**\n",
    "- 배열 $A[1:n]$에서 원소$x$를 찾아야 함. $x$가 각 위치에 있을 확률은 $\\frac{1}{n}$\n",
    "- $x$가 $A[1]$에 있으면 1번 확인\n",
    "- $x$가 $A[2]$에 있으면 2번 확인\n",
    "- $x$가 $A[n]$에 있으면 $n$번 확인\n",
    "\n",
    "- $E = 1 \\cdot \\frac{1}{n} + 2 \\cdot \\frac{1}{n} + \\cdot\\cdot\\cdot n \\cdot \\frac{1}{n} = \\frac{n + 1}{2}$\n",
    "\n",
    "\n",
    "2. **How about in the worst case?**\n",
    "- 최악의 경우는 $x$가 배열의 마지막 원소($A[n]$)에 있거나 배열에 없는 경우 -> $n$번 확인해야 함\n",
    "\n",
    "3. **Using $\\theta$-notation, give the average-case and worst-case running times of linear search. Justify your answers**\n",
    "- 평균과 최악 모두 $\\theta(n)$"
   ]
  },
  {
   "cell_type": "markdown",
   "id": "20056dfd-4986-4c57-beb1-8b2be47e1d83",
   "metadata": {},
   "source": [
    "### 2.2-4\n",
    "How can you modify any sorting algorithm to have a good best-case running time?"
   ]
  },
  {
   "cell_type": "markdown",
   "id": "b9540031-829b-466d-8af8-70d78f401a5f",
   "metadata": {},
   "source": [
    "### Answer(Grok):\n",
    "많은 정렬 알고리즘은 입력 상태와 관계없이 동일한 실행 시간을 가짐. \n",
    "\n",
    "이를 개선하려면 알고리즘이 입력이 이미 정렬되었거나 부분적으로 정렬된 경우를 감지하고 작업을 줄이도록 수정해야 함\n",
    "\n",
    "- **삽입 정렬(Insertion Sort):** 기본적으로 $\\theta(n^2)$이지만, 배열이 이미 정렬된 경우 각 원소가 제자리에 있음을 확인하고 바로 다음으로 넘어가므로 $\\theta(n)$\n",
    "- **수정 방법:** 알고리즘에 \"정렬 여부 확인\" 단계를 추가함. 예를 들어, 처음에 배열을 한 번 순회하며 인접 원소들이 정렬되어 있는지 확인하고, 그렇다면 $\\theta(n)$ 시간에 종료함"
   ]
  }
 ],
 "metadata": {
  "kernelspec": {
   "display_name": "Python 3 (ipykernel)",
   "language": "python",
   "name": "python3"
  },
  "language_info": {
   "codemirror_mode": {
    "name": "ipython",
    "version": 3
   },
   "file_extension": ".py",
   "mimetype": "text/x-python",
   "name": "python",
   "nbconvert_exporter": "python",
   "pygments_lexer": "ipython3",
   "version": "3.12.9"
  }
 },
 "nbformat": 4,
 "nbformat_minor": 5
}
