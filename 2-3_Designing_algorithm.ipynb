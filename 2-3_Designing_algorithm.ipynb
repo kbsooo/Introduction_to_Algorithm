{
 "cells": [
  {
   "cell_type": "markdown",
   "id": "cfc0a25b-5407-41cf-a3c4-8670631851b1",
   "metadata": {},
   "source": [
    "## Exercise"
   ]
  },
  {
   "cell_type": "markdown",
   "id": "1530ce59-f591-43b9-a782-e654b6d86ac0",
   "metadata": {},
   "source": [
    "### 2.3-1\n",
    "Using Figure 2.4 as a model, illustrate the operation of merge sort on an array initially containing the sequence $<3, 41, 52, 26, 38, 57, 9, 49>$.\n",
    "\n",
    "> 그림 2.4를 모델로 사용하여, 초기 시퀀스 $<3, 41, 52, 26, 38, 57, 9, 49>$를 포함하는 배열에서 병합 정렬의 작동을 설명하세요."
   ]
  },
  {
   "cell_type": "markdown",
   "id": "eeb254cd-deb0-4490-9ad1-5ca6033f0288",
   "metadata": {},
   "source": [
    "![](./img/2.3-1.jpeg)"
   ]
  },
  {
   "cell_type": "markdown",
   "id": "375e7c96-847b-48ca-9172-63fcab9376e5",
   "metadata": {},
   "source": [
    "### 2.3-2\n",
    "The test in line 1 of the **MERGE-SORT** procedure reads \"**if** $p \\geq r$\" rather than \"**if** $p \\neq r$\" if **MERGE-SORT** is called with $p > r$, then the subarray $A[p:r]$ is empty. Argue that as long as the initial call of MERGE-SORT($A, 1, n$) has $n \\geq 1$, the test \"**if** $p \\neq r$\" suffices to ensure that no recursive call has $p > r$.\n",
    "\n",
    "> MERGE-SORT 절차의 1번째 줄에 있는 테스트는 \"if $p \\neq r$\" 대신 \"if $p \\geq r$\"로 되어 있습니다. 만약 MERGE-SORT가 $p > r$로 호출되면, 부분 배열 $A[p:r]$은 비어 있습니다. 초기 호출인 MERGE-SORT($A, 1, n$)에서 $n \\geq 1$인 한, 테스트 \"if $p \\neq r$\"가 모든 재귀 호출에서 $p > r$이 되지 않도록 보장한다는 것을 주장하세요."
   ]
  },
  {
   "cell_type": "code",
   "execution_count": 5,
   "id": "4fba7d4d-a164-4769-a771-c05cf97a132b",
   "metadata": {},
   "outputs": [],
   "source": [
    "# pseudocode\n",
    "def MERGE_SORT(A,p,r):\n",
    "  if p >= r:\n",
    "    return\n",
    "  q = (p + r)//2\n",
    "  MERGE_SORT(A,p,q)\n",
    "  MERGE_SORT(A,q+1,r)\n",
    "  MERGE(A,p,q,r)"
   ]
  },
  {
   "cell_type": "markdown",
   "id": "1e614804-c0f8-46c0-b52f-429a08b135bf",
   "metadata": {},
   "source": [
    "![](./img/2.3-2.jpeg)"
   ]
  },
  {
   "cell_type": "markdown",
   "id": "e3492cac-6f49-4679-bcb5-4d38e759b03e",
   "metadata": {},
   "source": [
    "### 2.3-3\n",
    "State a loop invariant for the **while** loop of lines 12-18 of the **MERGE** procedure. Show how to use it, along with the **while** loops of lines 20-23 and 24-27, to prove that the MERGE procedure is correct.\n",
    "\n",
    "> MERGE 절차의 12-18번째 줄의 while 루프에 대한 루프 불변을 명시하세요. 이를 사용하여 20-23번째 줄과 24-27번째 줄의 while 루프와 함께 MERGE 절차가 정확하다는 것을 증명하는 방법을 보여주세요."
   ]
  },
  {
   "cell_type": "markdown",
   "id": "9424152d-b5de-4519-86e3-2cc5281ea912",
   "metadata": {},
   "source": [
    "```\n",
    "def MERGE(A,p,q,r):\n",
    "  nL = q - p + 1\n",
    "  nR = r - q\n",
    "  let L[0:nL-1] and R[0:nR-1] be new arrays\n",
    "  for i = 0 to nL - 1\n",
    "    L[i] = A[p + i]\n",
    "  for j = 0 to nR - 1\n",
    "    R[j] = A[q + j + 1]\n",
    "  i = 0\n",
    "  j = 0\n",
    "  k = p\n",
    "\n",
    "  while i < nL and j < nR\n",
    "    if L[i] <= R[j]\n",
    "      A[k] = L[i]\n",
    "      i = i + 1\n",
    "    else A[k] = R[j]\n",
    "      j = j + 1\n",
    "    k = k + 1\n",
    "\n",
    "  while i < nL\n",
    "    A[k] = L[i]\n",
    "    i = i + 1\n",
    "    k = k + 1\n",
    "  while j < nR\n",
    "    A[k] = R[j]\n",
    "    j = j + 1\n",
    "    k = k + 1\n",
    "```"
   ]
  },
  {
   "cell_type": "markdown",
   "id": "2ef66bbf-3a0c-47a1-9874-78d81268434b",
   "metadata": {},
   "source": [
    "![](./img/2.3-3.jpeg)"
   ]
  },
  {
   "cell_type": "markdown",
   "id": "05d649c6-d2f7-4447-856e-20e30f9ede69",
   "metadata": {},
   "source": [
    "### 2.3-4\n",
    "Use mathematical induction to show that when $n \\geq 2$ is an exact power of 2, the solution of the recurrence\n",
    "\n",
    "$T(n) = \\begin{cases}\n",
    "2 & \\mathrm{if} \\space n = 2, \\\\\n",
    "2T(n/2) + n & \\mathrm{if} \\space n > 2\n",
    "\\end{cases}$\n",
    "\n",
    "in $T(n) = n \\lg n$.\n",
    "\n",
    "> 수학적 귀납법을 사용하여, $n \\geq 2$가 2의 거듭제곱일 때, 다음 재귀식의 해가 $T(n) = n \\lg n$임을 보여주세요.\n",
    "> $T(n) = \\begin{cases}\n",
    "2 & \\mathrm{if} \\space n = 2, \\\\\n",
    "2T(n/2) + n & \\mathrm{if} \\space n > 2\n",
    "\\end{cases}$"
   ]
  },
  {
   "cell_type": "markdown",
   "id": "c9c7741b-8d6e-409f-a89e-ab781485a06d",
   "metadata": {},
   "source": [
    "![](./img/2.3-4.jpeg)"
   ]
  },
  {
   "cell_type": "markdown",
   "id": "d0ecb69b-a4e7-49fc-92f2-27203f2f405d",
   "metadata": {},
   "source": [
    "### 2.3-5\n",
    "You can also think of insertion sort as a recursive algorithm. In order to sort $A[1:n]$, recursively sort the subarray $A[1 : n - 1]$ and then insert $A[n]$ into the sorted subarray $A[1 : n - 1]$. Write pseudocode for this recursive version of insertion sort. Give a recurrence for its worst-case running time.\n",
    "\n",
    "> 삽입 정렬을 재귀적 알고리즘으로 생각할 수 있습니다. $A[1:n]$을 정렬하기 위해, 부분 배열 $A[1 : n - 1]$을 재귀적으로 정렬한 후 $A[n]$을 정렬된 부분 배열 $A[1 : n - 1]$에 삽입합니다. 이 재귀적 버전의 삽입 정렬에 대한 의사 코드를 작성하세요. 최악의 경우 실행 시간에 대한 재귀식을 제시하세요."
   ]
  },
  {
   "cell_type": "markdown",
   "id": "bbde2112-a4ff-4a5c-a5c7-0192e0450be8",
   "metadata": {},
   "source": [
    "- pseudocode\n",
    "```\n",
    "INSERTION-SORT(A, n)\n",
    "  if n > 1\n",
    "    INSERTION-SORT(A, n-1)\n",
    "\n",
    "  key = A[n]\n",
    "  i = n - 1\n",
    "\n",
    "  while i > 0 and A[i] > key\n",
    "    A[i + 1] = A[i]\n",
    "    i = i - 1\n",
    "\n",
    "  A[i + 1] = key\n",
    "```\n",
    "\n",
    "- worst-case running time\n",
    "$T(n) = T(n-1) + \\Theta(n)$\n",
    "- $T(n-1)$은 크기가 n-1인 배열을 재귀적으로 정렬하는 시간\n",
    "- $\\Theta(n)$은 정렬된 배열 A에 원소 A[n]을 삽입하는데 필요한 시간 (최악의 경우 n-1번의 비교와 이동이 필요)\n",
    "\n",
    "- 더 명확하게 상수를 사용하여 표현하면:\n",
    "- $T(n) = T(n-1) + cn, T(1) = c$\n",
    "- 이 재귀식의 해는 다음과 같이 전개하여 구할 수 있습니다:\n",
    "- $T(n) = T(n-1) + cn$\n",
    "- $= T(n-2) + c(n-1) + cn$\n",
    "- $= T(n-3) + c(n-2) + c(n-1) + cn$\n",
    "- ...\n",
    "- $= T(1) + c(2) + c(3) + ... + c(n-1) + cn$\n",
    "- $= c + c(2 + 3 + ... + n)$\n",
    "- $= c + c(n(n+1)/2 - 1)$\n",
    "- $= \\Theta(n^2)$"
   ]
  },
  {
   "cell_type": "markdown",
   "id": "a272c973-7fc8-4722-bb38-feaaafc01dfe",
   "metadata": {},
   "source": [
    "### 2.3-6\n",
    "Reffering back to the searching problem (see Exercise 2.1-4), observe that if the subarray being searched is already sorted, the searching algorithm can check the midpoint of the subarray against $v$ and eliminate half of the subarray from further consideration. The **binary search** algorithm repeats this procedure, halving the size of the remaining portion of the subarray each time. Write pseudocode, either iterative or recursive, for binary search. Argue that the worst-case running time of binary search is $\\theta(\\lg n)$.\n",
    "\n",
    "> 검색 문제(연습 문제 2.1-4 참조)로 돌아가서, 검색 중인 부분 배열이 이미 정렬되어 있다면, 검색 알고리즘은 부분 배열의 중간점을 vv\n",
    "v와 비교하여 더 이상 고려할 필요가 없는 부분 배열의 절반을 제거할 수 있습니다.\n",
    "이진 검색(binary search) 알고리즘은 이 절차를 반복하며, 매번 남은 부분 배열의 크기를 절반으로 줄입니다. 이진 검색에 대한 의사코드를 반복적 또는 재귀적으로 작성하세요. 이진 검색의 최악의 경우 실행 시간이 $\\Theta(\\lg⁡n)$임을 논증하세요."
   ]
  },
  {
   "cell_type": "markdown",
   "id": "6f9af782-8dce-4629-931e-76e1de5d4348",
   "metadata": {},
   "source": [
    "- pseudocode\n",
    "```\n",
    "BINARY-SEARCH(A, v, low, high)\n",
    "  while low <= high\n",
    "    mid = (low+high)//2\n",
    "    if A[mid] == v\n",
    "      return mid\n",
    "    else if A[mid] < v\n",
    "      low = mid + 1\n",
    "    else\n",
    "      high = mid - 1\n",
    "   return 0\n",
    "```\n",
    "\n",
    "이진 검색은 매 단계마다 검색 범위를 절반으로 줄임\n",
    "\n",
    "배열 크기가 1이 될 때까지 반복하므로,\n",
    "$n/2^k <= 1 n <= 2^k lg n <= k$ 이므로 최대 반복 횟수는 $\\lg n$"
   ]
  },
  {
   "cell_type": "markdown",
   "id": "0aed2c9a-3476-4a67-9d55-128374d39cec",
   "metadata": {},
   "source": [
    "### 2.3-7\n",
    "The **while** loop of lines 5-7 of the **INSERTION-SORT** procedure in Section 2.1 uses a linear search to scan (backward) through the sorted subarray $A[1 : j - 1]$. What if insertion sort used a binary search (see Exercise 2.3-6) instead of a linear search? Would that improve the overall worst-case running time of insertion sort to $\\theta(n \\lg n)$?\n",
    "\n",
    "> 2.1절의 INSERTION-SORT 프로시저의 5-7줄의 while 루프는 정렬된 부분 배열 $A[1:j−1]A[1 : j - 1]\n",
    "A[1:j−1]$을 (뒤로) 스캔하기 위해 선형 검색을 사용합니다. 만약 삽입 정렬이 선형 검색 대신 이진 검색(연습 문제 2.3-6 참조)을 사용한다면 어떨까요? 그것이 삽입 정렬의 전체 최악의 경우 실행 시간을 $\\Theta(n \\lg n)$으로 향상시킬까요?"
   ]
  },
  {
   "cell_type": "code",
   "execution_count": null,
   "id": "3e459731-65fe-4f05-bc9b-31facd3e7243",
   "metadata": {},
   "outputs": [],
   "source": []
  },
  {
   "cell_type": "markdown",
   "id": "714a3357-f9d3-46fe-9dc6-af967919df7b",
   "metadata": {},
   "source": [
    "### 2.3-8\n",
    "Describe an algorithm that, given a set $S$ of $n$ integers and another integer x, determines whether $S$ contains two elements that sum to exactly $x$. Your algorithm should take $\\theta(n \\lg n)$ time in the worst case.\n",
    "\n",
    "> $n$개의 정수로 이루어진 집합 $S$와 또 다른 정수 $x$가 주어졌을 때, $S$의 합이 정확히 $x$가 되는 두 원소가 포함되어 있는지를 판단하는 알고리즘을 설명하세요. 여러분의 알고리즘은 최악의 경우 $\\Theta(n \\lg n)$ 시간이 소요되어야 합니다."
   ]
  },
  {
   "cell_type": "code",
   "execution_count": null,
   "id": "b6e09113-4085-4e2f-be3b-862e32a7a8d3",
   "metadata": {},
   "outputs": [],
   "source": []
  },
  {
   "cell_type": "markdown",
   "id": "97fe3227-e6c4-4fdf-b23a-74dbbecd96a9",
   "metadata": {},
   "source": [
    "## Problems"
   ]
  },
  {
   "cell_type": "markdown",
   "id": "5d7db0a7-04b5-4dff-85e2-85a22a9f136c",
   "metadata": {},
   "source": [
    "### 2-1 Insertion sort on small arrays in merge sort\n",
    "Although merge sort runs in $\\theta(n \\lg n)$ worst-case time and insertion sort runs in $\\theta(n^2)$ worst-case time, the constant factors in insertion sort can make it faster in practice for small problem sizes on many machines. Thus it makes sense to **coarsen** the leaves of the recursion by using insertion sort whithin merge sort when subproblems become sufficiently small. Consider a modification to merge sort in which $n/k$ sublists of length $k$ are sorted using insertion sort and then merged using the standard merging mechanism, where $k$ is a value to be determined. "
   ]
  },
  {
   "cell_type": "markdown",
   "id": "69ca65be-273d-40f9-9bfe-92d87cd7d079",
   "metadata": {},
   "source": [
    "**a.** Show that insertion sort can sort the $n/k$ sublists, each of length $k$, in $\\Theta(nk)$ worst-case time.\n",
    "\n",
    "**b.** Show how to merge the sublists in $\\Theta(n \\lg(n/k))$ worst-case time.\n",
    "\n",
    "**c.** Given that the modified algorithm runs in $\\Theta(nk + n \\lg (n/k))$ worst-case time, what is the largest value of $k$ as a function of n for which the modified algorithm has the same running time as standard merge sort, in terms of $\\Theta$-notation?\n",
    "\n",
    "**d.** How should you choose $k$ in practice?"
   ]
  },
  {
   "cell_type": "markdown",
   "id": "a9f2488b-6a10-438f-9ddd-314dfd2587ff",
   "metadata": {},
   "source": [
    "### 2-1 병합 정렬에서 작은 배열에 대한 삽입 정렬\n",
    "병합 정렬은 최악의 경우 $\\theta(n \\lg n)$ 시간에 실행되고 삽입 정렬은 최악의 경우 $\\theta(n^2)$ 시간에 실행되지만, 삽입 정렬의 상수 인자들은 많은 기계에서 작은 문제 크기에 대해 실제로 더 빠르게 만들 수 있습니다. 따라서 하위 문제가 충분히 작아지면 병합 정렬 내에서 삽입 정렬을 사용하여 재귀의 말단을\n",
    "거칠게(coarsen) 만드는 것이 합리적입니다. 병합 정렬의 수정 버전을 고려해 봅시다. 이 버전에서는 길이 $k$\n",
    "인 $n/k$개의 하위 목록을 삽입 정렬을 사용하여 정렬한 다음, 표준 병합 메커니즘을 사용하여 병합합니다. 여기서 $k$는 결정해야 할 값입니다.\n",
    "\n",
    "**a.** 삽입 정렬이 각각 길이 $k$인 $n/k$개의 하위 목록을 최악의 경우 $\\Theta(nk)$ 시간에 정렬할 수 있음을 보이세요.\n",
    "\n",
    "**b.** 하위 목록들을 최악의 경우 $\\Theta(n \\lg(n/k))$ 시간에 병합하는 방법을 보이세요.\n",
    "\n",
    "**c.** 수정된 알고리즘이 최악의 경우 $\\Theta(nk + n \\lg (n/k))$ 시간에 실행된다고 할 때, 수정된 알고리즘이 $\\Theta$-표기법 관점에서 표준 병합 정렬과 동일한 실행 시간을 갖는 $n$\n",
    "의 함수로서 $k$의 가장 큰 값은 무엇입니까?\n",
    "\n",
    "**d.** 실제로는 $k$를 어떻게 선택해야 할까요?"
   ]
  },
  {
   "cell_type": "code",
   "execution_count": null,
   "id": "4dd22d52-5994-428c-b7a4-5adb929f811e",
   "metadata": {},
   "outputs": [],
   "source": []
  },
  {
   "cell_type": "markdown",
   "id": "ec92dba6-e5da-4b51-b555-463146e3a114",
   "metadata": {},
   "source": [
    "### 2-2 Correctness of bubblesort\n",
    "Bubblesort is a popular, buf inefficient, sorting algorithm. It works by repeatedly swapping adjacent elements that are out of order. The procedure **BUBBLESORT** sorts array $A[1:n]$.\n",
    "\n",
    "```\n",
    "BUBBLESORT(A,n)\n",
    "for i = 1 to n - 1\n",
    "  for j = n downto i + 1\n",
    "    if A[j] < A[j - 1]\n",
    "      exchange A[j] with A[j - 1]\n",
    "```"
   ]
  },
  {
   "cell_type": "markdown",
   "id": "66129c24-55c6-47e2-843f-179b7cd75ea8",
   "metadata": {},
   "source": [
    "**a.** Let $Á$ denote the array $A$ after BUBBLESORT($A, n$) is executed. To prove that\n",
    "\n",
    "$Á[1] \\leq Á[2] \\leq \\cdot \\cdot \\cdot \\leq Á[n]$.\n",
    "\n",
    "In order to show that **BUBBLESORT** actually sorts, what else do you need to prove?\n",
    "\n",
    "The next two parts prove inequality (2.5).\n",
    "\n",
    "**b.** State precisely a loop invariant for the **for** loop lines 2-4, and prove that this loop invariant holds. Your proof should use the structure of the loop-invariant proof presented in this chapter.\n",
    "\n",
    "**c.** Using the termination condition of the loop invariant proved in part(b), state a loop invariant for the **for** loop in lines 1-4 that allows you to prove inequality (2.5). Your proof should use the structure of the loop-invariant proof presented in this chapter.\n",
    "\n",
    "**d.** What is the worst-case running time of **BUBBLESORT**? How does it compare with the running time of **INSERTION-SORT**?"
   ]
  },
  {
   "cell_type": "markdown",
   "id": "27392b88-0fd8-423f-acb5-e8d314e540a1",
   "metadata": {},
   "source": [
    "### 2-2 버블 정렬의 정확성\n",
    "버블 정렬은 유명하지만 비효율적인 정렬 알고리즘이에요. 이 알고리즘은 잘못된 순서에 있는 인접한 요소들을 반복적으로 교환하면서 작동해요. BUBBLESORT라는 절차는 배열 $A[1:n]$을 정렬해줍니다.\n",
    "\n",
    "**a.** $Á$를 BUBBLESORT($A, n$)이 실행된 후의 배열 $A$라고 해봐요. 우리가 증명해야 하는 것은\n",
    "\n",
    "$Á[1] \\leq Á[2] \\leq \\cdot \\cdot \\cdot \\leq Á[n]$\n",
    "\n",
    "라는 불평등식이에요. BUBBLESORT가 실제로 정렬을 제대로 한다는 걸 보여주기 위해, 이 외에 또 무엇을 증명해야 할까요?\n",
    "\n",
    "다음 두 부분은 불평등식 (2.5)를 증명해줍니다.\n",
    "\n",
    "**b.** 2-4번째 줄에 있는 for 루프에 대한 루프 불변을 정확하게 설명하고, 이 루프 불변이 성립한다는 것을 증명해보세요. 증명은 이 장에서 제시된 루프 불변 증명의 구조를 따라야 합니다.\n",
    "\n",
    "**c.** b 부분에서 증명한 루프 불변의 종료 조건을 사용해서, 1-4번째 줄에 있는 for 루프에 대한 루프 불변을 설명해보세요. 이 루프 불변은 불평등식 (2.5)를 증명할 수 있어야 합니다. 증명은 이 장에서 제시된 루프 불변 증명의 구조를 따라야 합니다.\n",
    "\n",
    "**d.** BUBBLESORT의 최악의 경우 실행 시간은 얼마인가요? 이 실행 시간은 INSERTION-SORT의 실행 시간과 어떻게 비교되나요?"
   ]
  },
  {
   "cell_type": "code",
   "execution_count": null,
   "id": "84eca0d6-4f48-452a-8a55-1c92cc3fa5cc",
   "metadata": {},
   "outputs": [],
   "source": []
  },
  {
   "cell_type": "markdown",
   "id": "2273d1ac-5c2d-48ac-b0d7-9a8050466e63",
   "metadata": {},
   "source": [
    "### 2-3 Correctness of Horner's rule\n",
    "You are given the coefficients $a_0, a_1, a_2, ... , a_n$ of a polynomial\n",
    "\n",
    "$P(x) = \\sum_{k=0}^n a_kx^k$\n",
    "\n",
    "$ = a_0 + a_1x + a_2x^2 + \\cdot \\cdot \\cdot + a_{n-1}x^{n-1} + a_nx^n, $\n",
    "\n",
    "and you want to evaluate this polynomial for a given value of $x$. **Horner's rule** says to evaluate the polynomial according to this parenthesization:\n",
    "\n",
    "$P(x) = a_0 + x(a_1 + x(a_2 + \\cdot \\cdot \\cdot + x(a_{n-1} + xa_n)\\cdot \\cdot \\cdot))$.\n",
    "\n",
    "The procedure **HORNER** implements Horner's rule to evaluate $P(x)$, given the coefficients $a_0, a_1, a_2, ... , a_n$ in an array $A[0:n]$ and the value of $x$.\n",
    "\n",
    "```\n",
    "HORNER(A, n, x)\n",
    "  p = 0\n",
    "  for i = n downto 0\n",
    "    p = A[i] + x·p\n",
    "  return p\n",
    "```"
   ]
  },
  {
   "cell_type": "markdown",
   "id": "e25a63c0-afed-493c-b2e5-12a7e449ec34",
   "metadata": {},
   "source": [
    "**a.** In terms of $\\Theta$-notation, what is the running time of this procedure?\n",
    "\n",
    "**b.** Write pseudocode to implement the naive polynomial-evaluation algorithm that computes each term of the polynomial from scratch. What is the running time of this algorithm? How does it compare with **HORNER**?\n",
    "\n",
    "**c.** Consider the following loop invariant for the procedure **HORNER**: At the start of each iteration of the **for** loop of lines 2-3,\n",
    "\n",
    "$p = \\sum_{k=0}^{n-(i+1)} A[k + i + 1] \\cdot x^k$.\n",
    "\n",
    "Interpret a summation with no terms as equaling 0. Following the structure of the loop-invariant proof presented in this chapter, use this loop invariant to show that, at termination, \n",
    "\n",
    "$p = \\sum\\nolimits_{k=0}^n A[k] \\cdot x^k$."
   ]
  },
  {
   "cell_type": "markdown",
   "id": "18e4285b-d39d-46a9-a5da-c57a2d545ac2",
   "metadata": {},
   "source": [
    "### 2-3. 호너의 규칙의 정확성\n",
    "여러분에게 다항식의 계수 $a_0, a_1, a_2, \\dots, a_n$가 주어졌어요. 이 다항식은 다음과 같아요:\n",
    "\n",
    "$P(x) = \\sum_{k=0}^n a_k x^k = a_0 + a_1 x + a_2 x^2 + \\cdot \\cdot \\cdot + a_{n-1} x^{n-1} + a_n x^n$.\n",
    "\n",
    "그리고 주어진 $x$ 값에 대해 이 다항식을 계산하고 싶어요. 호너의 규칙은 다항식을 다음과 같은 괄호 형식으로 계산하라고 말해요:\n",
    "\n",
    "$P(x) = a_0 + x(a_1 + x(a_2 + \\cdot \\cdot \\cdot + x(a_{n-1} + x a_n) \\cdot \\cdot \\cdot))$.\n",
    "\n",
    "HORNER라는 절차는 호너의 규칙을 구현해서, 계수 $a_0, a_1, a_2, \\dots, a_n$가 배열 $A[0:n]$에 들어 있고 $x$ 값이 주어졌을 때 $P(x)$를 계산해줘요.\n",
    "\n",
    "**a.** $\\Theta$-표기법으로 이 절차의 실행 시간은 얼마인가요?\n",
    "\n",
    "**b.** 다항식의 각 항을 처음부터 계산하는 순진한 다항식 계산 알고리즘을 의사 코드로 작성해보세요. 이 알고리즘의 실행 시간은 얼마인가요? HORNER와 비교하면 어떤가요?\n",
    "\n",
    "**c.** HORNER 절차에서 2-3번째 줄의 for 루프에 대한 다음 루프 불변을 생각해보세요:\n",
    "\n",
    "for 루프의 각 반복이 시작될 때,\n",
    "\n",
    "$p = \\sum_{k=0}^{n-(i+1)} A[k + i + 1] \\cdot x^k$.\n",
    "\n",
    "항이 없는 합은 0이라고 해석해요. 이 장에서 제시된 루프 불변 증명의 구조를 따라, 이 루프 불변을 사용해서 루프가 끝났을 때\n",
    "\n",
    "$p = \\sum_{k=0}^n A[k] \\cdot x^k$\n",
    "\n",
    "임을 보여주세요. 단계별로 설명해주세요."
   ]
  },
  {
   "cell_type": "code",
   "execution_count": null,
   "id": "ab1e94cd-1f15-4f0a-92b2-2ea5549e5999",
   "metadata": {},
   "outputs": [],
   "source": []
  },
  {
   "cell_type": "markdown",
   "id": "8290eb8a-a1a5-496c-9652-bab60fd676c6",
   "metadata": {},
   "source": [
    "### 2-4 Inversions\n",
    "Let $A[1:n]$ be an array of $n$ distinct numbers. If $i < j$ and $A[i] > A[j]$, then the pair $(i, j)$ is called an **inversion** of $A$."
   ]
  },
  {
   "cell_type": "markdown",
   "id": "eafb6901-e638-4afe-9a65-bf17554cd846",
   "metadata": {},
   "source": [
    "**a.** List the five inversions of the array $<2, 3, 8, 6, 1>$.\n",
    "\n",
    "**b.** What array with elements from the set ${1, 2, ... , n}$ has the most inversions? How many does it have?\n",
    "\n",
    "**c.** What is the relationship between the running time of insertion sort and the number of inversions in the input array? Justify your answer.\n",
    "\n",
    "**d.** Give an algorithm that determines the number of inversions in any permutation on $n$ elements in $\\Theta(n \\lg n)$ worst-case time. (Hint: Modify merge sort.)"
   ]
  },
  {
   "cell_type": "markdown",
   "id": "3bb612b7-3579-4435-a4bd-caef34261bb3",
   "metadata": {},
   "source": [
    "### 2-4. 역전\n",
    "$A[1:n]$이 $n$개의 서로 다른 숫자로 이루어진 배열이라고 해봐요. 만약 $i < j$인데 $A[i] > A[j]$라면, 쌍 $(i, j)$를 $A$의 역전이라고 불러요.\n",
    "\n",
    "**a.** 배열 $<2, 3, 8, 6, 1>$에서 다섯 개의 역전을 나열해보세요.\n",
    "\n",
    "**b.** 집합 ${1, 2, \\dots, n}$의 원소들로 이루어진 배열 중에서 역전이 가장 많은 배열은 어떤 건가요? 그 배열은 몇 개의 역전을 가지고 있나요?\n",
    "\n",
    "**c.** 삽입 정렬의 실행 시간과 입력 배열의 역전 개수 사이에는 어떤 관계가 있나요? 답을 설명해주세요.\n",
    "\n",
    "**d.** $n$개의 원소로 이루어진 어떤 순열에서든 역전의 개수를 최악의 경우 $\\Theta(n \\lg n)$ 시간에 계산하는 알고리즘을 제시해주세요. (힌트: 병합 정렬을 수정해보세요.)"
   ]
  },
  {
   "cell_type": "code",
   "execution_count": null,
   "id": "d01dab0c-7782-4f96-801a-36d0ec83aab4",
   "metadata": {},
   "outputs": [],
   "source": []
  }
 ],
 "metadata": {
  "kernelspec": {
   "display_name": "Python 3 (ipykernel)",
   "language": "python",
   "name": "python3"
  },
  "language_info": {
   "codemirror_mode": {
    "name": "ipython",
    "version": 3
   },
   "file_extension": ".py",
   "mimetype": "text/x-python",
   "name": "python",
   "nbconvert_exporter": "python",
   "pygments_lexer": "ipython3",
   "version": "3.9.21"
  }
 },
 "nbformat": 4,
 "nbformat_minor": 5
}
