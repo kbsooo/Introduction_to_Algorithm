{
 "cells": [
  {
   "cell_type": "markdown",
   "id": "df4d6541-8fd6-4d84-89bb-26619c843d53",
   "metadata": {},
   "source": [
    "### Insertion sort\n",
    "\n",
    "- 최선의 경우: 이미 정렬 되었을 때 $O(n)$\n",
    "- 최악의 경우: 반대로 정렬되어있을 때 loop 두개를 최대로 돌아야 하므로 $O(n^2)$"
   ]
  },
  {
   "cell_type": "code",
   "execution_count": 2,
   "id": "7517dd4b-fdc4-4763-9abb-91a34d11f9e5",
   "metadata": {},
   "outputs": [
    {
     "name": "stdout",
     "output_type": "stream",
     "text": [
      "initial arr:  [31, 41, 59, 26, 41, 58]\n",
      "step 1: [31, 41, 59, 26, 41, 58]\n",
      "step 2: [31, 41, 59, 26, 41, 58]\n",
      "step 3: [26, 31, 41, 59, 41, 58]\n",
      "step 4: [26, 31, 41, 41, 59, 58]\n",
      "step 5: [26, 31, 41, 41, 58, 59]\n",
      "sorted arr:  [26, 31, 41, 41, 58, 59]\n"
     ]
    }
   ],
   "source": [
    "arr = [31, 41, 59, 26, 41, 58]\n",
    "\n",
    "def insertion_sort(arr):\n",
    "    for i in range(1, len(arr)): # i는 1부터 시\n",
    "        key = arr[i]\n",
    "        j = i - 1 # 정렬된 부분의 마지막 index\n",
    "        while j >= 0 and arr[j] > key:\n",
    "            arr[j + 1]  = arr[j] # 값을 오른쪽으로 이동\n",
    "            j -= 1\n",
    "        arr[j + 1] = key\n",
    "\n",
    "        print(f\"step {i}: {arr}\")\n",
    "\n",
    "print(\"initial arr: \", arr)\n",
    "insertion_sort(arr)\n",
    "print(\"sorted arr: \", arr)"
   ]
  },
  {
   "cell_type": "markdown",
   "id": "75180d92-073d-4396-b462-80c8ed92dc28",
   "metadata": {},
   "source": [
    "### Merge sort\n",
    "1. Divide\n",
    "- **분할** 단계에서는 입력을 두 개의 하위 배열로 나누기 위해 중간 지점 계산함\n",
    "- 배열의 크기 **n**에 관계없이 항상 constant time\n",
    "- 따라서 분할 비용은 $O(1)$\n",
    "\n",
    "2. Conquer\n",
    "- **정복** 단계에서는 크기가 **n/2**인 두 개의 하위 문제를 재귀적으로 해결\n",
    "- 각 하위 문제의 실행 시간은 **T(n/2)**이므로, 두 하위 문제를 해결하는 총 시간은 **2T(n/2)**\n",
    "\n",
    "3. Combine\n",
    "- **결합** 단계에서는 크기 **n**인 두 하위 배열을 하나의 정렬된 배열로 merge\n",
    "- 이 병합 과정은 **n**개의 요소를 처리해야 하므로 **O(n)**\n",
    "- 따라서 결합 비용은 **O(n)**\n",
    "\n",
    "실행 시간을 재귀적으로 이해해보면\n",
    "\n",
    "$T(n) = 2T(\\frac{n}{2}) + c_2n,\\space for \\space n > 1,\\space T(1) = c_1$\n",
    "\n",
    "- $c_1 > 0$: 크기 1인 문제를 해결하는 데 필요한 상수 시간\n",
    "- $c_2 > 0$: 분할과 결합 단계에서 배열 요소당 소요되는 상수 시간\n",
    "\n",
    "재귀 트리를 통해 실행 시간을 계산해보면\n",
    "- **최상위 수준:** 비용은 $c_2n$ (분할과 결합 비용)\n",
    "- **다음 수준:** 두 개의 노드가 있으며, 각 노드의 비용은 $c_2(n/2)$, 총 비용은 $c_2(n/2) + c_2(n/2) = c_2 n$\n",
    "- **그 다음 수준:** 네 개의 노드가 있으며, 각 노드의 비용은 $c_2(n/4)$, 총 비용은 $c_2(n/4) + c_2(n/4) + c_2(n/4) + c_2(n/4) = c_2n$\n",
    "- 이 패턴은 계속되며, 각 수준의 총 비용은 항상 $c_2n$로 일정함\n",
    "- 최하위 수준(리프 노드): n개의 노드가 있으며, 각 노드의 비용은 $c_1$, 총 비용은 $c_1n$\n",
    "\n",
    "트리의 수준 수는 $\\lg n + 1$\n",
    "- **$n = 1$** 일 때 수준 수는 1이고, $\\lg 1 + 1 = 1$\n",
    "- **$n = 2^i$** 일 때 수준 수는 $i + 1$이고, $\\lg 2^i + 1 = i + 1$\n",
    "\n",
    "총 실행 시간\n",
    "- 각 수준에서 비용 $c_2n$이 발생하고, 총 수준 수는 $\\lg n$ (최하위 수준 제외)\n",
    "- 최하위 수준에서 $c_1n$이 추가됨\n",
    "- 총 실행시간은:\n",
    "\n",
    "$T(n) = (\\lg n) \\cdot c_2n + c_1n = c_2 n \\lg n + c_1 n$\n",
    "\n",
    "\n",
    "**$T(n) = \\theta(n \\lg n)$**"
   ]
  },
  {
   "cell_type": "code",
   "execution_count": 4,
   "id": "249ca425-a22d-4c96-baba-e30f02862654",
   "metadata": {},
   "outputs": [
    {
     "data": {
      "text/plain": [
       "[26, 31, 41, 41, 58, 59]"
      ]
     },
     "execution_count": 4,
     "metadata": {},
     "output_type": "execute_result"
    }
   ],
   "source": [
    "arr = [31, 41, 59, 26, 41, 58]\n",
    "\n",
    "def merge(A, p, q, r):\n",
    "    left = A[p:q + 1]\n",
    "    right = A[q + 1:r + 1]\n",
    "    i = 0\n",
    "    j = 0\n",
    "    k = p\n",
    "    while i < len(left) and j < len(right):\n",
    "        if left[i] <= right[j]:\n",
    "            A[k] = left[i]\n",
    "            i += 1\n",
    "        else:\n",
    "            A[k] = right[j]\n",
    "            j += 1\n",
    "        k += 1\n",
    "    while i < len(left):\n",
    "        A[k] = left[i]\n",
    "        i += 1\n",
    "        k += 1\n",
    "    while j < len(right):\n",
    "        A[k] = right[j]\n",
    "        j += 1\n",
    "        k += 1\n",
    "\n",
    "def merge_sort(A, p, r):\n",
    "    if p >= r:\n",
    "        return A\n",
    "\n",
    "    q = (p + r) // 2\n",
    "    merge_sort(A,p,q)\n",
    "    merge_sort(A,q+1,r)\n",
    "    merge(A,p,q,r)    \n",
    "\n",
    "merge_sort(arr, 0, len(arr))\n",
    "arr"
   ]
  }
 ],
 "metadata": {
  "kernelspec": {
   "display_name": "Python 3 (ipykernel)",
   "language": "python",
   "name": "python3"
  },
  "language_info": {
   "codemirror_mode": {
    "name": "ipython",
    "version": 3
   },
   "file_extension": ".py",
   "mimetype": "text/x-python",
   "name": "python",
   "nbconvert_exporter": "python",
   "pygments_lexer": "ipython3",
   "version": "3.12.9"
  }
 },
 "nbformat": 4,
 "nbformat_minor": 5
}
