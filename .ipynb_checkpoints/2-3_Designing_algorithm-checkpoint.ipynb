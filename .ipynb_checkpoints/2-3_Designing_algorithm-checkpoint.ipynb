{
 "cells": [
  {
   "cell_type": "markdown",
   "id": "cfc0a25b-5407-41cf-a3c4-8670631851b1",
   "metadata": {},
   "source": [
    "## Exercise"
   ]
  },
  {
   "cell_type": "markdown",
   "id": "1530ce59-f591-43b9-a782-e654b6d86ac0",
   "metadata": {},
   "source": [
    "### 2.3-1\n",
    "Using Figure 2.4 as a model, illustrate the operation of merge sort on an array initially containing the sequence $<3, 41, 52, 26, 38, 57, 9, 49>$."
   ]
  },
  {
   "cell_type": "code",
   "execution_count": null,
   "id": "8541f2d3-4c0b-479d-87a9-50f7a3dc1820",
   "metadata": {},
   "outputs": [],
   "source": []
  },
  {
   "cell_type": "markdown",
   "id": "375e7c96-847b-48ca-9172-63fcab9376e5",
   "metadata": {},
   "source": [
    "### 2.3-2\n",
    "The test in line 1 of the **MERGE-SORT** procedure reads \"**if** $p \\geq r$\" rather than \"**if** $p \\neq r$\" if **MERGE-SORT** is called with $p > r$, then the subarray $A[p:r]$ is empty. Argue that as long as the initial call of MERGE-SORT($A, 1, n$) has $n \\geq 1$, the test \"**if** $p \\neq r$\" suffices to ensure that no recursive call has $p > r$."
   ]
  },
  {
   "cell_type": "code",
   "execution_count": null,
   "id": "4fba7d4d-a164-4769-a771-c05cf97a132b",
   "metadata": {},
   "outputs": [],
   "source": []
  },
  {
   "cell_type": "markdown",
   "id": "e3492cac-6f49-4679-bcb5-4d38e759b03e",
   "metadata": {},
   "source": [
    "### 2.3-3\n",
    "State a loop invariant for the **while** loop of lines 12-18 of the **MERGE** procedure. Show how to use it, along with the **while** loops of lines 20-23 and 24-27, to prove that the MERGE procedure si correct."
   ]
  },
  {
   "cell_type": "code",
   "execution_count": null,
   "id": "61a2e6b3-493b-4ae1-ab4d-74ec104e1476",
   "metadata": {},
   "outputs": [],
   "source": []
  },
  {
   "cell_type": "markdown",
   "id": "05d649c6-d2f7-4447-856e-20e30f9ede69",
   "metadata": {},
   "source": [
    "### 2.3-4\n",
    "Use mathematical induction to show that when $n \\geq 2$ is an exact power of 2, the solution of the recurrence\n",
    "\n",
    "$T(n) = \\begin{cases}\n",
    "2 & \\mathrm{if} \\space n = 2, \\\\\n",
    "2T(n/2) + n & \\mathrm{if} \\space n > 2\n",
    "\\end{cases}$\n",
    "\n",
    "in $T(n) = n \\lg n$."
   ]
  },
  {
   "cell_type": "code",
   "execution_count": null,
   "id": "f936c34e-1c85-4118-9968-2a1b08f14397",
   "metadata": {},
   "outputs": [],
   "source": []
  },
  {
   "cell_type": "markdown",
   "id": "d0ecb69b-a4e7-49fc-92f2-27203f2f405d",
   "metadata": {},
   "source": [
    "### 2.3-5\n",
    "You can also think of insertion sort as a recursive algorithm. In order to sort $A[1:n]$, recursively sort the subarray $A[1 : n - 1]$ and then insert $A[n]$ into the sorted subarray $A[1 : n - 1]$. Write pseudocode for this recursive version of insertion sort. Give a recurrence for its worst-case running time."
   ]
  },
  {
   "cell_type": "code",
   "execution_count": null,
   "id": "d0e16178-9f23-49da-84b7-258ff8056880",
   "metadata": {},
   "outputs": [],
   "source": []
  },
  {
   "cell_type": "markdown",
   "id": "a272c973-7fc8-4722-bb38-feaaafc01dfe",
   "metadata": {},
   "source": [
    "### 2.3-6\n",
    "Reffering back to the searching problem (see Exercise 2.1-4), observe that if the subarray being searched is already sorted, the searching algorithm can check the midpoint of the subarray against $v$ and eliminate half of the subarray from further consideration. The **binary search** algorithm repeats this procedure, halving the size of the remaining portion of the subarray each time. Write pseudocode, either iterative or recursive, for binary search. Argue that the worst-case running time of binary search is $\\theta(\\lg n)$."
   ]
  },
  {
   "cell_type": "code",
   "execution_count": null,
   "id": "4134d578-6a0d-41b1-b7b9-06ee87214cef",
   "metadata": {},
   "outputs": [],
   "source": []
  },
  {
   "cell_type": "markdown",
   "id": "0aed2c9a-3476-4a67-9d55-128374d39cec",
   "metadata": {},
   "source": [
    "### 2.3-7\n",
    "The **while** loop of lines 5-7 of the **INSERTION-SORT** procedure in Section 2.1 uses a linear search to scan (backward) through the sorted subarray $A[1 : j - 1]$. What if insertion sort used a binary search (see Exercise 2.3-6) instead of a linear search? Would that improve the overall worst-case running time of insertion sort to $\\theta(n \\lg n)$?"
   ]
  },
  {
   "cell_type": "code",
   "execution_count": null,
   "id": "3e459731-65fe-4f05-bc9b-31facd3e7243",
   "metadata": {},
   "outputs": [],
   "source": []
  },
  {
   "cell_type": "markdown",
   "id": "714a3357-f9d3-46fe-9dc6-af967919df7b",
   "metadata": {},
   "source": [
    "### 2.3-8\n",
    "Describe an algorithm that, given a set $S$ of $n$ integers and another integer x, determines whether $S$ contains two elements that sum to exactly $x$. Your algorithm should take $\\theta(n \\lg n)$ time in the worst case."
   ]
  },
  {
   "cell_type": "code",
   "execution_count": null,
   "id": "b6e09113-4085-4e2f-be3b-862e32a7a8d3",
   "metadata": {},
   "outputs": [],
   "source": []
  },
  {
   "cell_type": "markdown",
   "id": "97fe3227-e6c4-4fdf-b23a-74dbbecd96a9",
   "metadata": {},
   "source": [
    "## Problems"
   ]
  },
  {
   "cell_type": "markdown",
   "id": "5d7db0a7-04b5-4dff-85e2-85a22a9f136c",
   "metadata": {},
   "source": [
    "### 2-1 Insertion sort on small arrays in merge sort\n",
    "Although merge sort runs in $\\theta(n \\lg n)$ worst-case time and insertion sort runs in $\\theta(n^2)$ worst-case time, the constant factors in insertion sort can make it faster in practice for small problem sizes on many machines. Thus it makes sense to **coarsen** the leaves of the recursion by using insertion sort whithin merge sort when subproblems become sufficiently small. Consider a modification to merge sort in which $n/k$ sublists of length $k$ are sorted using insertion sort and then merged using the standard merging mechanism, where $k$ is a value to be determined. "
   ]
  },
  {
   "cell_type": "markdown",
   "id": "69ca65be-273d-40f9-9bfe-92d87cd7d079",
   "metadata": {},
   "source": [
    "**a.** Show that insertion sort can sort the $n/k$ sublists, each of length $k$, in $\\Theta(nk)$ worst-case time.\n",
    "\n",
    "**b.** Show how to merge the sublists in $\\Theta(n \\lg(n/k))$ worst-case time.\n",
    "\n",
    "**c.** Given that the modified algorithm runs in $\\Theta(nk + n \\lg (n/k))$ worst-case time, what is the largest value of $k$ as a function of n for which the modified algorithm has the same running time as standard merge sort, in terms of $\\Theta$-notation?\n",
    "\n",
    "**d.** How should you choose $k$ in practice?"
   ]
  },
  {
   "cell_type": "code",
   "execution_count": null,
   "id": "32675920-163c-4f95-9f67-3398baa9e884",
   "metadata": {},
   "outputs": [],
   "source": []
  },
  {
   "cell_type": "markdown",
   "id": "ec92dba6-e5da-4b51-b555-463146e3a114",
   "metadata": {},
   "source": [
    "### 2-2 Correctness of bubblesort\n",
    "Bubblesort is a popular, buf inefficient, sorting algorithm. It works by repeatedly swapping adjacent elements that are out of order. The procedure **BUBBLESORT** sorts array $A[1:n]$.\n",
    "\n",
    "```\n",
    "BUBBLESORT(A,n)\n",
    "for i = 1 to n - 1\n",
    "  for j = n downto i + 1\n",
    "    if A[j] < A[j - 1]\n",
    "      exchange A[j] with A[j - 1]\n",
    "```"
   ]
  },
  {
   "cell_type": "markdown",
   "id": "66129c24-55c6-47e2-843f-179b7cd75ea8",
   "metadata": {},
   "source": [
    "**a.** Let $Á$ denote the array $A$ after BUBBLESORT($A, n$) is executed. To prove that\n",
    "\n",
    "$Á[1] \\leq Á[2] \\leq \\cdot \\cdot \\cdot \\leq Á[n]$.\n",
    "\n",
    "In order to show that **BUBBLESORT** actually sorts, what else do you need to prove?\n",
    "\n",
    "The next two parts prove inequality (2.5).\n",
    "\n",
    "**b.** State precisely a loop invariant for the **for** loop lines 2-4, and prove that this loop invariant holds. Your proof should use the structure of the loop-invariant proof presented in this chapter.\n",
    "\n",
    "**c.** Using the termination condition of the loop invariant proved in part(b), state a loop invariant for the **for** loop in lines 1-4 that allows you to prove inequality (2.5). Your proof should use the structure of the loop-invariant proof presented in this chapter.\n",
    "\n",
    "**d.** What is the worst-case running time of **BUBBLESORT**? How does it compare with the running time of **INSERTION-SORT**?"
   ]
  },
  {
   "cell_type": "code",
   "execution_count": null,
   "id": "936c60dd-7b82-4e1e-9ef1-5c58e88dd6d6",
   "metadata": {},
   "outputs": [],
   "source": []
  },
  {
   "cell_type": "markdown",
   "id": "2273d1ac-5c2d-48ac-b0d7-9a8050466e63",
   "metadata": {},
   "source": [
    "### 2-3 Correctness of Horner's rule\n",
    "You are given the coefficients $a_0, a_1, a_2, ... , a_n$ of a polynomial\n",
    "\n",
    "$P(x) = \\sum_{k=0}^n a_kx^k$\n",
    "\n",
    "$ = a_0 + a_1x + a_2x^2 + \\cdot \\cdot \\cdot + a_{n-1}x^{n-1} + a_nx^n, $\n",
    "\n",
    "and you want to evaluate this polynomial for a given value of $x$. **Horner's rule** says to evaluate the polynomial according to this parenthesization:\n",
    "\n",
    "$P(x) = a_0 + x(a_1 + x(a_2 + \\cdot \\cdot \\cdot + x(a_{n-1} + xa_n)\\cdot \\cdot \\cdot))$.\n",
    "\n",
    "The procedure **HORNER** implements Horner's rule to evaluate $P(x)$, given the coefficients $a_0, a_1, a_2, ... , a_n$ in an array $A[0:n]$ and the value of $x$.\n",
    "\n",
    "```\n",
    "HORNER(A, n, x)\n",
    "  p = 0\n",
    "  for i = n downto 0\n",
    "    p = A[i] + x·p\n",
    "  return p\n",
    "```"
   ]
  },
  {
   "cell_type": "markdown",
   "id": "e25a63c0-afed-493c-b2e5-12a7e449ec34",
   "metadata": {},
   "source": [
    "**a.** In terms of $\\Theta$-notation, what is the running time of this procedure?\n",
    "\n",
    "**b.** Write pseudocode to implement the naive polynomial-evaluation algorithm that computes each term of the polynomial from scratch. What is the running time of this algorithm? How does it compare with **HORNER**?\n",
    "\n",
    "**c.** Consider the following loop invariant for the procedure **HORNER**: At the start of each iteration of the **for** loop of lines 2-3,\n",
    "\n",
    "$p = \\sum_{k=0}^{n-(i+1)} A[k + i + 1] \\cdot x^k$.\n",
    "\n",
    "Interpret a summation with no terms as equaling 0. Following the structure of the loop-invariant proof presented in this chapter, use this loop invariant to show that, at termination, \n",
    "\n",
    "$p = \\sum\\nolimits_{k=0}^n A[k] \\cdot x^k$."
   ]
  },
  {
   "cell_type": "code",
   "execution_count": null,
   "id": "39bb043a-7c78-4c90-8340-152a25436b95",
   "metadata": {},
   "outputs": [],
   "source": []
  },
  {
   "cell_type": "markdown",
   "id": "8290eb8a-a1a5-496c-9652-bab60fd676c6",
   "metadata": {},
   "source": [
    "### 2-4 Inversions\n",
    "Let $A[1:n]$ be an array of $n$ distinct numbers. If $i < j$ and $A[i] > A[j]$, then the pair $(i, j)$ is called an **inversion** of $A$."
   ]
  },
  {
   "cell_type": "markdown",
   "id": "eafb6901-e638-4afe-9a65-bf17554cd846",
   "metadata": {},
   "source": [
    "**a.** List the five inversions of the array $<2, 3, 8, 6, 1>$.\n",
    "\n",
    "**b.** What array with elements from the set ${1, 2, ... , n}$ has the most inversions? How many does it have?\n",
    "\n",
    "**c.** What is the relationship between the running time of insertion sort and the number of inversions in the input array? Justify your answer.\n",
    "\n",
    "**d.** Give an algorithm that determines the number of inversions in any permutation on $n$ elements in $\\Theta(n \\lg n)$ worst-case time. (Hint: Modify merge sort.)"
   ]
  },
  {
   "cell_type": "code",
   "execution_count": null,
   "id": "b3f9fe3e-7432-4abf-8af7-aff04a553fde",
   "metadata": {},
   "outputs": [],
   "source": []
  }
 ],
 "metadata": {
  "kernelspec": {
   "display_name": "Python 3 (ipykernel)",
   "language": "python",
   "name": "python3"
  },
  "language_info": {
   "codemirror_mode": {
    "name": "ipython",
    "version": 3
   },
   "file_extension": ".py",
   "mimetype": "text/x-python",
   "name": "python",
   "nbconvert_exporter": "python",
   "pygments_lexer": "ipython3",
   "version": "3.9.21"
  }
 },
 "nbformat": 4,
 "nbformat_minor": 5
}
